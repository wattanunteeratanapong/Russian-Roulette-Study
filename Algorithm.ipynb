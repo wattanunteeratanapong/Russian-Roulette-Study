{
 "cells": [
  {
   "cell_type": "code",
   "execution_count": 1,
   "id": "6a0864ba-8162-457d-8097-0869a59b7d1c",
   "metadata": {},
   "outputs": [],
   "source": [
    "# Russian Roulette (Sequence firing 1v1)\n",
    "import random"
   ]
  },
  {
   "cell_type": "code",
   "execution_count": 2,
   "id": "958e8205-8ae7-4f20-a5c7-93c4dbb80491",
   "metadata": {},
   "outputs": [
    {
     "name": "stdout",
     "output_type": "stream",
     "text": [
      "[0, 0, 0, 0, 1, 0]\n"
     ]
    }
   ],
   "source": [
    "chamber = [1, 0, 0, 0, 0, 0]\n",
    "\n",
    "# Shuffle the chamber\n",
    "random.shuffle(chamber)\n",
    "print(chamber)"
   ]
  },
  {
   "cell_type": "code",
   "execution_count": 3,
   "id": "e947cacb-d7b7-4a18-b284-78317b0449b0",
   "metadata": {},
   "outputs": [
    {
     "name": "stdout",
     "output_type": "stream",
     "text": [
      "First player's turn  (1)\n",
      "First player survived\n",
      "\n",
      "Second player's turn (2)\n",
      "Second player survived\n",
      "\n",
      "First player's turn  (3)\n",
      "First player survived\n",
      "\n",
      "Second player's turn (4)\n",
      "Second player survived\n",
      "\n",
      "First player's turn  (5)\n",
      "First player is dead\n",
      "\n"
     ]
    }
   ],
   "source": [
    "i = 1\n",
    "while True:\n",
    "    print(f\"First player's turn  ({i})\")\n",
    "    bullet = chamber.pop(0)\n",
    "    if bullet == 1:\n",
    "        print(\"First player is dead\")\n",
    "        print()\n",
    "        break\n",
    "    else:\n",
    "        print(\"First player survived\")\n",
    "        print()\n",
    "    i += 1\n",
    "\n",
    "    print(f\"Second player's turn ({i})\")\n",
    "    bullet = chamber.pop(0)\n",
    "    if bullet == 1:\n",
    "        print(\"Second player is dead\")\n",
    "        print()\n",
    "        break\n",
    "    else:\n",
    "        print(\"Second player survived\")\n",
    "        print()\n",
    "    i += 1"
   ]
  }
 ],
 "metadata": {
  "kernelspec": {
   "display_name": "Python 3 (ipykernel)",
   "language": "python",
   "name": "python3"
  },
  "language_info": {
   "codemirror_mode": {
    "name": "ipython",
    "version": 3
   },
   "file_extension": ".py",
   "mimetype": "text/x-python",
   "name": "python",
   "nbconvert_exporter": "python",
   "pygments_lexer": "ipython3",
   "version": "3.8.19"
  }
 },
 "nbformat": 4,
 "nbformat_minor": 5
}
